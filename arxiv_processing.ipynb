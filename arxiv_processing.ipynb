{
 "cells": [
  {
   "attachments": {},
   "cell_type": "markdown",
   "metadata": {},
   "source": [
    "# ArXiv Data Processing"
   ]
  },
  {
   "attachments": {},
   "cell_type": "markdown",
   "metadata": {},
   "source": [
    "The purpose of this file is to process the maths submissions of the [ArXiv dataset](https://www.kaggle.com/datasets/Cornell-University/arxiv) from Kaggle into tables more suitable for data analysis (e.g. to add to a database or open in Power BI).\n",
    "\n",
    "The data begins as a single table with the ArXiv ID, submitter, authors, title, comments, journal reference, doi, report-no, categories, license, abstract, versions, update date, and a list of the authors in a parsed format.\n",
    "\n",
    "This data is processed into five tables:\n",
    "- Submission, to record the submissions themselves\n",
    "- Category, to record the categories a submission can be labelled as\n",
    "- Author, to record the authors of the papers\n",
    "- Submission-Category, to capture many-to-many relationship between a Submission and its Categories.\n",
    "- Submission-Author, to capture the many-to-many realtionship between Submission and Author.\n",
    "\n",
    "![database](data/arxiv-db.png)\n",
    "\n",
    "The dataset is quite large, so some of the computations take some time (but not 'leave your computer on overnight' time)."
   ]
  },
  {
   "cell_type": "code",
   "execution_count": 3,
   "metadata": {},
   "outputs": [],
   "source": [
    "# Import required packages\n",
    "import pandas as pd\n",
    "import csv\n",
    "from datetime import datetime\n",
    "from dateutil import parser\n",
    "\n",
    "from collections import defaultdict\n",
    "import gender_guesser.detector as gender"
   ]
  },
  {
   "attachments": {},
   "cell_type": "markdown",
   "metadata": {},
   "source": [
    "## Filtering out the maths submissions"
   ]
  },
  {
   "cell_type": "code",
   "execution_count": null,
   "metadata": {},
   "outputs": [],
   "source": [
    "# Determine whether a paper is a maths paper\n",
    "def isMathCategory(categories):\n",
    "    cats = categories.split(\" \")\n",
    "    for cat in cats:\n",
    "        if cat[:cat.find(\".\")] == \"math\":\n",
    "            return True\n",
    "    return False\n",
    "\n",
    "# Load the relevant data from the ArXiv file with a given filter on the categories.\n",
    "# There is also the option to only load a selection of columns.\n",
    "def loadArxivData(file, catFilter = lambda x : True, cols=None):\n",
    "    f = open(file)\n",
    "    data = []\n",
    "    for line in f:\n",
    "        doc = json.loads(line)\n",
    "        if cols:\n",
    "            lst = [doc[col] for col in cols]\n",
    "        else:\n",
    "            lst = doc\n",
    "        if catFilter(doc['categories']):\n",
    "            data.append(lst)\n",
    "    f.close()\n",
    "    return pd.DataFrame(data=data, columns=cols)"
   ]
  },
  {
   "cell_type": "code",
   "execution_count": null,
   "metadata": {},
   "outputs": [],
   "source": [
    "# Load all the maths ArXiv data\n",
    "fileName = 'data/arxiv-metadata-oai-snapshot.json'\n",
    "arxiv_math = loadArxivData(fileName, catFilter = isMathCategory)\n",
    "\n",
    "# Save to csv so that we don't need to re-collect the data\n",
    "arxiv_math.to_csv('data/arxiv-math.csv', index=False)"
   ]
  },
  {
   "attachments": {},
   "cell_type": "markdown",
   "metadata": {},
   "source": [
    "Start from here if you already have the arxiv-math csv:"
   ]
  },
  {
   "cell_type": "code",
   "execution_count": 4,
   "metadata": {},
   "outputs": [
    {
     "name": "stderr",
     "output_type": "stream",
     "text": [
      "C:\\Users\\tomdo\\AppData\\Local\\Temp\\ipykernel_13372\\2213766750.py:2: DtypeWarning: Columns (0) have mixed types. Specify dtype option on import or set low_memory=False.\n",
      "  arxiv_math = pd.read_csv('data/arxiv-math.csv')\n"
     ]
    },
    {
     "name": "stdout",
     "output_type": "stream",
     "text": [
      "(593560, 14)\n",
      "<class 'pandas.core.frame.DataFrame'>\n",
      "RangeIndex: 593560 entries, 0 to 593559\n",
      "Data columns (total 14 columns):\n",
      " #   Column          Non-Null Count   Dtype \n",
      "---  ------          --------------   ----- \n",
      " 0   id              593560 non-null  object\n",
      " 1   submitter       591905 non-null  object\n",
      " 2   authors         593560 non-null  object\n",
      " 3   title           593560 non-null  object\n",
      " 4   comments        412682 non-null  object\n",
      " 5   journal-ref     138202 non-null  object\n",
      " 6   doi             145397 non-null  object\n",
      " 7   report-no       22328 non-null   object\n",
      " 8   categories      593560 non-null  object\n",
      " 9   license         519282 non-null  object\n",
      " 10  abstract        593560 non-null  object\n",
      " 11  versions        593560 non-null  object\n",
      " 12  update_date     593560 non-null  object\n",
      " 13  authors_parsed  593560 non-null  object\n",
      "dtypes: object(14)\n",
      "memory usage: 63.4+ MB\n"
     ]
    }
   ],
   "source": [
    "# Load the ArXiv data for math submissions\n",
    "arxiv_math = pd.read_csv('data/arxiv-math.csv')\n",
    "\n",
    "print(arxiv_math.shape)\n",
    "arxiv_math.info()"
   ]
  },
  {
   "attachments": {},
   "cell_type": "markdown",
   "metadata": {},
   "source": [
    "## Submission"
   ]
  },
  {
   "cell_type": "code",
   "execution_count": 5,
   "metadata": {},
   "outputs": [
    {
     "data": {
      "text/html": [
       "<div>\n",
       "<style scoped>\n",
       "    .dataframe tbody tr th:only-of-type {\n",
       "        vertical-align: middle;\n",
       "    }\n",
       "\n",
       "    .dataframe tbody tr th {\n",
       "        vertical-align: top;\n",
       "    }\n",
       "\n",
       "    .dataframe thead th {\n",
       "        text-align: right;\n",
       "    }\n",
       "</style>\n",
       "<table border=\"1\" class=\"dataframe\">\n",
       "  <thead>\n",
       "    <tr style=\"text-align: right;\">\n",
       "      <th></th>\n",
       "      <th>versions</th>\n",
       "      <th>submission_date</th>\n",
       "    </tr>\n",
       "  </thead>\n",
       "  <tbody>\n",
       "    <tr>\n",
       "      <th>180168</th>\n",
       "      <td>[{'version': 'v1', 'created': 'Mon, 19 Jan 201...</td>\n",
       "      <td>2015-01-19</td>\n",
       "    </tr>\n",
       "    <tr>\n",
       "      <th>125985</th>\n",
       "      <td>[{'version': 'v1', 'created': 'Wed, 24 Apr 201...</td>\n",
       "      <td>2013-04-24</td>\n",
       "    </tr>\n",
       "    <tr>\n",
       "      <th>370100</th>\n",
       "      <td>[{'version': 'v1', 'created': 'Thu, 19 Dec 201...</td>\n",
       "      <td>2019-12-19</td>\n",
       "    </tr>\n",
       "    <tr>\n",
       "      <th>193100</th>\n",
       "      <td>[{'version': 'v1', 'created': 'Wed, 3 Jun 2015...</td>\n",
       "      <td>2015-06-03</td>\n",
       "    </tr>\n",
       "    <tr>\n",
       "      <th>279764</th>\n",
       "      <td>[{'version': 'v1', 'created': 'Sat, 14 Oct 201...</td>\n",
       "      <td>2017-10-14</td>\n",
       "    </tr>\n",
       "  </tbody>\n",
       "</table>\n",
       "</div>"
      ],
      "text/plain": [
       "                                                 versions submission_date\n",
       "180168  [{'version': 'v1', 'created': 'Mon, 19 Jan 201...      2015-01-19\n",
       "125985  [{'version': 'v1', 'created': 'Wed, 24 Apr 201...      2013-04-24\n",
       "370100  [{'version': 'v1', 'created': 'Thu, 19 Dec 201...      2019-12-19\n",
       "193100  [{'version': 'v1', 'created': 'Wed, 3 Jun 2015...      2015-06-03\n",
       "279764  [{'version': 'v1', 'created': 'Sat, 14 Oct 201...      2017-10-14"
      ]
     },
     "execution_count": 5,
     "metadata": {},
     "output_type": "execute_result"
    }
   ],
   "source": [
    "# Get date of first submisson\n",
    "arxiv_math['versions'] = arxiv_math['versions'].apply(eval)\n",
    "arxiv_math['submission_date'] = arxiv_math['versions'].apply(lambda x : datetime.date(parser.parse(x[0]['created'])))\n",
    "\n",
    "arxiv_math.sample(5)[['versions', 'submission_date']]"
   ]
  },
  {
   "cell_type": "code",
   "execution_count": null,
   "metadata": {},
   "outputs": [],
   "source": [
    "# Change journal column to a binary value\n",
    "arxiv_math['journal-ref'] = 1 - arxiv_math['journal-ref'].isnull().astype('int')"
   ]
  },
  {
   "cell_type": "code",
   "execution_count": 6,
   "metadata": {},
   "outputs": [
    {
     "name": "stdout",
     "output_type": "stream",
     "text": [
      "(593560, 6)\n",
      "<class 'pandas.core.frame.DataFrame'>\n",
      "RangeIndex: 593560 entries, 0 to 593559\n",
      "Data columns (total 6 columns):\n",
      " #   Column           Non-Null Count   Dtype \n",
      "---  ------           --------------   ----- \n",
      " 0   id               593560 non-null  object\n",
      " 1   submission_date  593560 non-null  object\n",
      " 2   title            593560 non-null  object\n",
      " 3   abstract         593560 non-null  object\n",
      " 4   journal-ref      138202 non-null  object\n",
      " 5   comments         412682 non-null  object\n",
      "dtypes: object(6)\n",
      "memory usage: 27.2+ MB\n"
     ]
    }
   ],
   "source": [
    "# Create submissions dataframe\n",
    "submission_cols = ['id', 'submission_date', 'title', 'abstract', 'journal-ref', 'comments']\n",
    "submission = arxiv_math[submission_cols].copy()\n",
    "submission.rename(columns={'id':'arxiv_id'})\n",
    "\n",
    "print(submission.shape)\n",
    "submission.info()"
   ]
  },
  {
   "cell_type": "code",
   "execution_count": 65,
   "metadata": {},
   "outputs": [],
   "source": [
    "# Save submission table\n",
    "submission.to_csv('data/submission.csv', index=False, quoting=csv.QUOTE_NONNUMERIC)"
   ]
  },
  {
   "attachments": {},
   "cell_type": "markdown",
   "metadata": {},
   "source": [
    "## Category"
   ]
  },
  {
   "cell_type": "code",
   "execution_count": 64,
   "metadata": {},
   "outputs": [
    {
     "name": "stdout",
     "output_type": "stream",
     "text": [
      "(32, 2)\n"
     ]
    },
    {
     "data": {
      "text/html": [
       "<div>\n",
       "<style scoped>\n",
       "    .dataframe tbody tr th:only-of-type {\n",
       "        vertical-align: middle;\n",
       "    }\n",
       "\n",
       "    .dataframe tbody tr th {\n",
       "        vertical-align: top;\n",
       "    }\n",
       "\n",
       "    .dataframe thead th {\n",
       "        text-align: right;\n",
       "    }\n",
       "</style>\n",
       "<table border=\"1\" class=\"dataframe\">\n",
       "  <thead>\n",
       "    <tr style=\"text-align: right;\">\n",
       "      <th></th>\n",
       "      <th>category_id</th>\n",
       "      <th>category_name</th>\n",
       "    </tr>\n",
       "  </thead>\n",
       "  <tbody>\n",
       "    <tr>\n",
       "      <th>0</th>\n",
       "      <td>AC</td>\n",
       "      <td>Commutative Algerba</td>\n",
       "    </tr>\n",
       "    <tr>\n",
       "      <th>1</th>\n",
       "      <td>AG</td>\n",
       "      <td>Algebraic Geometry</td>\n",
       "    </tr>\n",
       "    <tr>\n",
       "      <th>2</th>\n",
       "      <td>AP</td>\n",
       "      <td>Analysis of PDEs</td>\n",
       "    </tr>\n",
       "    <tr>\n",
       "      <th>3</th>\n",
       "      <td>AT</td>\n",
       "      <td>Algebraic Topology</td>\n",
       "    </tr>\n",
       "    <tr>\n",
       "      <th>4</th>\n",
       "      <td>CA</td>\n",
       "      <td>Classicial Analysis and ODES</td>\n",
       "    </tr>\n",
       "  </tbody>\n",
       "</table>\n",
       "</div>"
      ],
      "text/plain": [
       "  category_id                 category_name\n",
       "0          AC           Commutative Algerba\n",
       "1          AG            Algebraic Geometry\n",
       "2          AP              Analysis of PDEs\n",
       "3          AT            Algebraic Topology\n",
       "4          CA  Classicial Analysis and ODES"
      ]
     },
     "execution_count": 64,
     "metadata": {},
     "output_type": "execute_result"
    }
   ],
   "source": [
    "# Create the category table, starting with the category names and acronyms (to be used as a primary key)\n",
    "category_dict = {'AC':'Commutative Algebra',\n",
    "                'AG':'Algebraic Geometry',\n",
    "                'AP':'Analysis of PDEs',\n",
    "                'AT':'Algebraic Topology',\n",
    "                'CA':'Classicial Analysis and ODES',\n",
    "                'CO':'Combinatorics',\n",
    "                'CT':'Category Theory',\n",
    "                'CV':'Complex Variables',\n",
    "                'DG':'Differential Geometry',\n",
    "                'DS':'Dynamical Systems',\n",
    "                'FA':'Functional Analysis',\n",
    "                'GM':'General Mathematics',\n",
    "                'GN':'General Topology',\n",
    "                'GR':'Group Theory',\n",
    "                'GT':'Geometric Topology',\n",
    "                'HO':'History and Overview',\n",
    "                'IT':'Information Theory', \n",
    "                'KT':'K-Theory and Homology',\n",
    "                'LO':'Logic',\n",
    "                'MG':'Metric Geometry',\n",
    "                'MP':'Mathematical Physics',\n",
    "                'NA':'Numerical Analysis',\n",
    "                'NT':'Number Theory',\n",
    "                'OA':'Operator Algebras',\n",
    "                'OC':'Optimization and Control',\n",
    "                'PR':'Probability',\n",
    "                'QA':'Quantum Algebra',\n",
    "                'RA':'Rings and Algebras',\n",
    "                'RT':'Representation Theory',\n",
    "                'SG':'Symplectic Geometry',\n",
    "                'SP':'Spectral Theory',\n",
    "                'ST':'Statistics Theory'}\n",
    "\n",
    "\n",
    "category = pd.DataFrame(category_dict.items(), columns = ['category_id', 'category_name'])\n",
    "category.to_csv('data/category.csv', index=False)\n",
    "\n",
    "print(category.shape)\n",
    "category.head()"
   ]
  },
  {
   "attachments": {},
   "cell_type": "markdown",
   "metadata": {},
   "source": [
    "## Author"
   ]
  },
  {
   "cell_type": "code",
   "execution_count": 20,
   "metadata": {},
   "outputs": [
    {
     "name": "stdout",
     "output_type": "stream",
     "text": [
      "(272979, 3)\n"
     ]
    },
    {
     "data": {
      "text/html": [
       "<div>\n",
       "<style scoped>\n",
       "    .dataframe tbody tr th:only-of-type {\n",
       "        vertical-align: middle;\n",
       "    }\n",
       "\n",
       "    .dataframe tbody tr th {\n",
       "        vertical-align: top;\n",
       "    }\n",
       "\n",
       "    .dataframe thead th {\n",
       "        text-align: right;\n",
       "    }\n",
       "</style>\n",
       "<table border=\"1\" class=\"dataframe\">\n",
       "  <thead>\n",
       "    <tr style=\"text-align: right;\">\n",
       "      <th></th>\n",
       "      <th>author_id</th>\n",
       "      <th>surname</th>\n",
       "      <th>first_name</th>\n",
       "    </tr>\n",
       "  </thead>\n",
       "  <tbody>\n",
       "    <tr>\n",
       "      <th>0</th>\n",
       "      <td>0</td>\n",
       "      <td>Coclite</td>\n",
       "      <td>Giuseppe Maria</td>\n",
       "    </tr>\n",
       "    <tr>\n",
       "      <th>1</th>\n",
       "      <td>1</td>\n",
       "      <td>Rabee</td>\n",
       "      <td>Khalid Bou</td>\n",
       "    </tr>\n",
       "    <tr>\n",
       "      <th>2</th>\n",
       "      <td>2</td>\n",
       "      <td>panhuis</td>\n",
       "      <td>J. in 't</td>\n",
       "    </tr>\n",
       "    <tr>\n",
       "      <th>3</th>\n",
       "      <td>3</td>\n",
       "      <td>Nakakita</td>\n",
       "      <td>Shogo H.</td>\n",
       "    </tr>\n",
       "    <tr>\n",
       "      <th>4</th>\n",
       "      <td>4</td>\n",
       "      <td>Andersen</td>\n",
       "      <td>Per Kragh</td>\n",
       "    </tr>\n",
       "  </tbody>\n",
       "</table>\n",
       "</div>"
      ],
      "text/plain": [
       "   author_id   surname      first_name\n",
       "0          0   Coclite  Giuseppe Maria\n",
       "1          1     Rabee      Khalid Bou\n",
       "2          2   panhuis        J. in 't\n",
       "3          3  Nakakita        Shogo H.\n",
       "4          4  Andersen       Per Kragh"
      ]
     },
     "execution_count": 20,
     "metadata": {},
     "output_type": "execute_result"
    }
   ],
   "source": [
    "# Create author table\n",
    "arxiv_math['authors_parsed'] = arxiv_math['authors_parsed'].apply(eval)\n",
    "\n",
    "names_list = arxiv_math['authors_parsed'].explode().to_list()\n",
    "unique_names = [name for name in set(tuple(x[:2]) for x in names_list)]\n",
    "\n",
    "author = pd.DataFrame()\n",
    "author['surname'] = pd.Series([name[0] for name in unique_names])\n",
    "author['first_name'] = pd.Series([name[1] for name in unique_names])\n",
    "\n",
    "# Make the index the author id\n",
    "author['author_id'] = author.index\n",
    "author = author[['author_id', 'surname', 'first_name']]\n",
    "\n",
    "print(author.shape)\n",
    "author.head()"
   ]
  },
  {
   "cell_type": "code",
   "execution_count": 21,
   "metadata": {},
   "outputs": [
    {
     "data": {
      "text/html": [
       "<div>\n",
       "<style scoped>\n",
       "    .dataframe tbody tr th:only-of-type {\n",
       "        vertical-align: middle;\n",
       "    }\n",
       "\n",
       "    .dataframe tbody tr th {\n",
       "        vertical-align: top;\n",
       "    }\n",
       "\n",
       "    .dataframe thead th {\n",
       "        text-align: right;\n",
       "    }\n",
       "</style>\n",
       "<table border=\"1\" class=\"dataframe\">\n",
       "  <thead>\n",
       "    <tr style=\"text-align: right;\">\n",
       "      <th></th>\n",
       "      <th>author_id</th>\n",
       "      <th>surname</th>\n",
       "      <th>first_name</th>\n",
       "      <th>gender</th>\n",
       "    </tr>\n",
       "  </thead>\n",
       "  <tbody>\n",
       "    <tr>\n",
       "      <th>0</th>\n",
       "      <td>0</td>\n",
       "      <td>Coclite</td>\n",
       "      <td>Giuseppe Maria</td>\n",
       "      <td>male</td>\n",
       "    </tr>\n",
       "    <tr>\n",
       "      <th>1</th>\n",
       "      <td>1</td>\n",
       "      <td>Rabee</td>\n",
       "      <td>Khalid Bou</td>\n",
       "      <td>male</td>\n",
       "    </tr>\n",
       "    <tr>\n",
       "      <th>2</th>\n",
       "      <td>2</td>\n",
       "      <td>panhuis</td>\n",
       "      <td>J. in 't</td>\n",
       "      <td>unknown</td>\n",
       "    </tr>\n",
       "    <tr>\n",
       "      <th>3</th>\n",
       "      <td>3</td>\n",
       "      <td>Nakakita</td>\n",
       "      <td>Shogo H.</td>\n",
       "      <td>male</td>\n",
       "    </tr>\n",
       "    <tr>\n",
       "      <th>4</th>\n",
       "      <td>4</td>\n",
       "      <td>Andersen</td>\n",
       "      <td>Per Kragh</td>\n",
       "      <td>male</td>\n",
       "    </tr>\n",
       "  </tbody>\n",
       "</table>\n",
       "</div>"
      ],
      "text/plain": [
       "   author_id   surname      first_name   gender\n",
       "0          0   Coclite  Giuseppe Maria     male\n",
       "1          1     Rabee      Khalid Bou     male\n",
       "2          2   panhuis        J. in 't  unknown\n",
       "3          3  Nakakita        Shogo H.     male\n",
       "4          4  Andersen       Per Kragh     male"
      ]
     },
     "execution_count": 21,
     "metadata": {},
     "output_type": "execute_result"
    }
   ],
   "source": [
    "# Add genders\n",
    "names = [x.split(' ')[0] for x in author['first_name'].to_list()]\n",
    "unique_names2 = list(set(names))\n",
    "\n",
    "# Guess the genders of all the names and construct a dictionary\n",
    "d = gender.Detector()\n",
    "genders = [d.get_gender(name) for name in unique_names2]\n",
    "\n",
    "gender_dict = defaultdict(lambda :\"unknown\")\n",
    "for name, gender_ in zip(unique_names2, genders):\n",
    "    gender_dict[name] = gender_\n",
    "\n",
    "genders = [gender_dict[name] for name in names]\n",
    "\n",
    "author['gender'] = pd.Series(genders)\n",
    "author.loc[(author['gender'] != 'male') & (author['gender'] != 'female'),'gender'] = 'unknown'\n",
    "\n",
    "author.head()"
   ]
  },
  {
   "cell_type": "code",
   "execution_count": 18,
   "metadata": {},
   "outputs": [],
   "source": [
    "# Save the dataframe\n",
    "author.to_csv('author.csv', index=False)"
   ]
  },
  {
   "attachments": {},
   "cell_type": "markdown",
   "metadata": {},
   "source": [
    "## Submission-Author"
   ]
  },
  {
   "cell_type": "code",
   "execution_count": 23,
   "metadata": {},
   "outputs": [
    {
     "name": "stdout",
     "output_type": "stream",
     "text": [
      "('Coclite', 'Giuseppe Maria') 0\n",
      "('Rabee', 'Khalid Bou') 1\n",
      "('panhuis', \"J. in 't\") 2\n",
      "('Nakakita', 'Shogo H.') 3\n",
      "('Andersen', 'Per Kragh') 4\n"
     ]
    }
   ],
   "source": [
    "# Create a dict to map author name to index\n",
    "author_dict = dict(zip(unique_names, author['author_id'].to_list()))\n",
    "\n",
    "for name in unique_names[:5]:\n",
    "    print(name, author_dict[name])"
   ]
  },
  {
   "cell_type": "code",
   "execution_count": 24,
   "metadata": {},
   "outputs": [
    {
     "data": {
      "text/html": [
       "<div>\n",
       "<style scoped>\n",
       "    .dataframe tbody tr th:only-of-type {\n",
       "        vertical-align: middle;\n",
       "    }\n",
       "\n",
       "    .dataframe tbody tr th {\n",
       "        vertical-align: top;\n",
       "    }\n",
       "\n",
       "    .dataframe thead th {\n",
       "        text-align: right;\n",
       "    }\n",
       "</style>\n",
       "<table border=\"1\" class=\"dataframe\">\n",
       "  <thead>\n",
       "    <tr style=\"text-align: right;\">\n",
       "      <th></th>\n",
       "      <th>arxiv_id</th>\n",
       "      <th>author_id</th>\n",
       "    </tr>\n",
       "  </thead>\n",
       "  <tbody>\n",
       "    <tr>\n",
       "      <th>0</th>\n",
       "      <td>704.0002</td>\n",
       "      <td>94229</td>\n",
       "    </tr>\n",
       "    <tr>\n",
       "      <th>0</th>\n",
       "      <td>704.0002</td>\n",
       "      <td>49170</td>\n",
       "    </tr>\n",
       "    <tr>\n",
       "      <th>1</th>\n",
       "      <td>704.0004</td>\n",
       "      <td>178374</td>\n",
       "    </tr>\n",
       "    <tr>\n",
       "      <th>2</th>\n",
       "      <td>704.0005</td>\n",
       "      <td>220029</td>\n",
       "    </tr>\n",
       "    <tr>\n",
       "      <th>2</th>\n",
       "      <td>704.0005</td>\n",
       "      <td>225925</td>\n",
       "    </tr>\n",
       "  </tbody>\n",
       "</table>\n",
       "</div>"
      ],
      "text/plain": [
       "   arxiv_id  author_id\n",
       "0  704.0002      94229\n",
       "0  704.0002      49170\n",
       "1  704.0004     178374\n",
       "2  704.0005     220029\n",
       "2  704.0005     225925"
      ]
     },
     "execution_count": 24,
     "metadata": {},
     "output_type": "execute_result"
    }
   ],
   "source": [
    "# Create submission-author dataframe\n",
    "\n",
    "submission_author = arxiv_math[['id', 'authors_parsed']].copy().explode('authors_parsed')\n",
    "submission_author['author_id'] = submission_author['authors_parsed'].apply(lambda x : author_dict[tuple(x[:2])])\n",
    "submission_author.drop('authors_parsed', axis=1, inplace=True)\n",
    "submission_author.rename(columns={'id':'arxiv_id'}, inplace=True)\n",
    "\n",
    "submission_author.to_csv('submission_author.csv', index=False)\n",
    "\n",
    "submission_author.head()"
   ]
  },
  {
   "attachments": {},
   "cell_type": "markdown",
   "metadata": {},
   "source": [
    "## Submission-Category"
   ]
  },
  {
   "cell_type": "code",
   "execution_count": 84,
   "metadata": {},
   "outputs": [
    {
     "data": {
      "text/html": [
       "<div>\n",
       "<style scoped>\n",
       "    .dataframe tbody tr th:only-of-type {\n",
       "        vertical-align: middle;\n",
       "    }\n",
       "\n",
       "    .dataframe tbody tr th {\n",
       "        vertical-align: top;\n",
       "    }\n",
       "\n",
       "    .dataframe thead th {\n",
       "        text-align: right;\n",
       "    }\n",
       "</style>\n",
       "<table border=\"1\" class=\"dataframe\">\n",
       "  <thead>\n",
       "    <tr style=\"text-align: right;\">\n",
       "      <th></th>\n",
       "      <th>arxiv_id</th>\n",
       "      <th>category_id</th>\n",
       "    </tr>\n",
       "  </thead>\n",
       "  <tbody>\n",
       "    <tr>\n",
       "      <th>0</th>\n",
       "      <td>704.0002</td>\n",
       "      <td>CO</td>\n",
       "    </tr>\n",
       "    <tr>\n",
       "      <th>1</th>\n",
       "      <td>704.0004</td>\n",
       "      <td>CO</td>\n",
       "    </tr>\n",
       "    <tr>\n",
       "      <th>2</th>\n",
       "      <td>704.0005</td>\n",
       "      <td>CA</td>\n",
       "    </tr>\n",
       "    <tr>\n",
       "      <th>2</th>\n",
       "      <td>704.0005</td>\n",
       "      <td>FA</td>\n",
       "    </tr>\n",
       "    <tr>\n",
       "      <th>3</th>\n",
       "      <td>704.001</td>\n",
       "      <td>CO</td>\n",
       "    </tr>\n",
       "  </tbody>\n",
       "</table>\n",
       "</div>"
      ],
      "text/plain": [
       "   arxiv_id category_id\n",
       "0  704.0002          CO\n",
       "1  704.0004          CO\n",
       "2  704.0005          CA\n",
       "2  704.0005          FA\n",
       "3   704.001          CO"
      ]
     },
     "execution_count": 84,
     "metadata": {},
     "output_type": "execute_result"
    }
   ],
   "source": [
    "# Create submission-category table\n",
    "\n",
    "submission_category = arxiv_math[['id']].copy()\n",
    "submission_category['category_id'] = arxiv_math['categories'].apply(lambda x : x.split(' '))\n",
    "\n",
    "submission_category = submission_category.explode('category_id')\n",
    "\n",
    "# Only want math categories\n",
    "submission_category = submission_category[submission_category['category_id'].str.startswith('math')]\n",
    "submission_category['category_id'] = submission_category['category_id'].apply(lambda x : x[5:])\n",
    "\n",
    "submission_category.rename(columns={'id':'arxiv_id'}, inplace=True)\n",
    "\n",
    "submission_category.to_csv('submission_category.csv', index=False)\n",
    "\n",
    "submission_category.head()"
   ]
  },
  {
   "cell_type": "code",
   "execution_count": 1,
   "metadata": {},
   "outputs": [],
   "source": [
    "import pandas as pd\n",
    "import csv\n",
    "\n",
    "types = {\"arxiv_id\":'str', 'submission_date':'str', 'title':'str', 'abstract':'str', 'journal-ref':'str', 'comments':'str'}\n",
    "submission = pd.read_csv('data/submission.csv', dtype=types, parse_dates=True)\n",
    "\n",
    "submission['journal-ref'] = 1 - submission['journal-ref'].isnull().astype('int')\n",
    "\n",
    "submission.to_csv('data/submission.csv', index=False, quoting=csv.QUOTE_NONNUMERIC)\n"
   ]
  },
  {
   "cell_type": "code",
   "execution_count": 22,
   "metadata": {},
   "outputs": [
    {
     "name": "stdout",
     "output_type": "stream",
     "text": [
      "<class 'str'> 704.0002\n",
      "<class 'str'> 2007-03-31\n",
      "<class 'str'> Sparsity-certifying Graph Decompositions\n",
      "<class 'str'>   We describe a new algorithm, the $(k,\\ell)$-pebble game with colors, and use\n",
      "it obtain a characterization of the family of $(k,\\ell)$-sparse graphs and\n",
      "algorithmic solutions to a family of problems concerning tree decompositions of\n",
      "graphs. Special instances of sparse graphs appear in rigidity theory and have\n",
      "received increased attention in recent years. In particular, our colored\n",
      "pebbles generalize and strengthen the previous results of Lee and Streinu and\n",
      "give a new proof of the Tutte-Nash-Williams characterization of arboricity. We\n",
      "also present a new decomposition that certifies sparsity based on the\n",
      "$(k,\\ell)$-pebble game with colors. Our work also exposes connections between\n",
      "pebble game algorithms and previous sparse graph algorithms by Gabow, Gabow and\n",
      "Westermann and Hendrickson.\n",
      "\n",
      "<class 'numpy.int32'> 0\n",
      "<class 'str'> To appear in Graphs and Combinatorics\n"
     ]
    }
   ],
   "source": [
    "row = submission.iloc[0]\n",
    "\n",
    "for entry in row:\n",
    "    print(type(entry), entry)"
   ]
  }
 ],
 "metadata": {
  "kernelspec": {
   "display_name": "Python 3",
   "language": "python",
   "name": "python3"
  },
  "language_info": {
   "codemirror_mode": {
    "name": "ipython",
    "version": 3
   },
   "file_extension": ".py",
   "mimetype": "text/x-python",
   "name": "python",
   "nbconvert_exporter": "python",
   "pygments_lexer": "ipython3",
   "version": "3.8.10"
  },
  "orig_nbformat": 4
 },
 "nbformat": 4,
 "nbformat_minor": 2
}
